{
 "cells": [
  {
   "cell_type": "code",
   "execution_count": null,
   "id": "ff6a64da",
   "metadata": {},
   "outputs": [],
   "source": [
    "'''\n",
    "Homework on regex. \n",
    "Print each persons name and twitter handle etc., using groups, should look like:\n",
    "# [\n",
    "#     (First and last name,\n",
    "#      email,+\n",
    "#      phone,+\n",
    "#      title,\n",
    "#      Twitter handle)\n",
    "# ]\n",
    "\n",
    "\n",
    "Problem approach:\n",
    "\n",
    "if I can do re.findall method for every data in grops then I can use compiler.finditer for all data\n",
    "'''\n",
    "\n"
   ]
  },
  {
   "cell_type": "code",
   "execution_count": 1,
   "id": "9227bbe9",
   "metadata": {},
   "outputs": [],
   "source": [
    "import re\n",
    "\n",
    "# open a .txt file using python\n",
    "file = open('./names.txt', encoding='utf-8')\n",
    "\n",
    "# read the data from the txt file\n",
    "data = file.read()\n",
    "\n",
    "# ALWAYS close your data streams to any files. Memory leakage and whatnot\n",
    "file.close()\n"
   ]
  },
  {
   "cell_type": "code",
   "execution_count": 2,
   "id": "b5c491e1",
   "metadata": {},
   "outputs": [
    {
     "data": {
      "text/plain": [
       "['@codingtemple',\n",
       " '@derekhawkins',\n",
       " '@codingtemple',\n",
       " '@codingtemple',\n",
       " '@norrbotten',\n",
       " '@sverik',\n",
       " '@killerrabbit',\n",
       " '@codingtemple',\n",
       " '@ryanbutz',\n",
       " '@tardis',\n",
       " '@example',\n",
       " '@example',\n",
       " '@us',\n",
       " '@potus44',\n",
       " '@codingtemple',\n",
       " '@ripalp',\n",
       " '@empire',\n",
       " '@darthvader',\n",
       " '@spain']"
      ]
     },
     "execution_count": 2,
     "metadata": {},
     "output_type": "execute_result"
    }
   ],
   "source": [
    "#Twitter handle\n",
    "re.findall(r'@[\\w\\d]+',data)        "
   ]
  },
  {
   "cell_type": "code",
   "execution_count": 5,
   "id": "b60321ec",
   "metadata": {},
   "outputs": [
    {
     "data": {
      "text/plain": [
       "['Hawkins, Derek',\n",
       " 'Teacher, Coding',\n",
       " 'Milliken, Connor',\n",
       " 'Teacher, Coding',\n",
       " 'Johnson, Joe',\n",
       " 'Carter, Joel',\n",
       " 'Österberg, Sven',\n",
       " 'Governor, Norrbotten',\n",
       " 'Enchanter, Killer',\n",
       " 'Butz, Ryan',\n",
       " 'CEO, Coding',\n",
       " 'Doctor, The',\n",
       " 'Lord, Gallifrey',\n",
       " 'Exampleson, Example',\n",
       " 'Example, Example',\n",
       " 'Obama, Barack',\n",
       " 'President, United',\n",
       " 'Patel, Ripal',\n",
       " 'Teacher, Coding',\n",
       " 'Vader, Darth',\n",
       " 'Lord, Galactic',\n",
       " 'Sanz, María',\n",
       " 'Minister, Spanish']"
      ]
     },
     "execution_count": 5,
     "metadata": {},
     "output_type": "execute_result"
    }
   ],
   "source": [
    "# First and last name\n",
    "re.findall(r'\\w+, \\w+', data)"
   ]
  },
  {
   "cell_type": "code",
   "execution_count": 3,
   "id": "40cb2360",
   "metadata": {},
   "outputs": [
    {
     "data": {
      "text/plain": [
       "['derek@codingtemple.com',\n",
       " 'connor@codingtemple.com',\n",
       " 'joejohnson@codingtemple.com',\n",
       " 'governor@norrbotten.co.se',\n",
       " 'tim@killerrabbit.com',\n",
       " 'ryanb@codingtemple.com',\n",
       " 'doctor+companion@tardis.co.uk',\n",
       " 'me@example.com',\n",
       " 'president.44@us.gov',\n",
       " 'ripalp@codingtemple.com',\n",
       " 'vader@empire.gov',\n",
       " 'mtfvs@spain.gov']"
      ]
     },
     "execution_count": 3,
     "metadata": {},
     "output_type": "execute_result"
    }
   ],
   "source": [
    "# email\n",
    "re.findall(r'[\\d\\w\\'-+.]+@[-.\\w\\d]+', data) "
   ]
  },
  {
   "cell_type": "code",
   "execution_count": 4,
   "id": "f97bb4ea",
   "metadata": {},
   "outputs": [
    {
     "data": {
      "text/plain": [
       "['(555) 555-5555',\n",
       " '(555) 555-5554',\n",
       " '(555) 555-5543',\n",
       " '555-555-5552',\n",
       " '555 555-5551',\n",
       " '(555) 555-5553',\n",
       " '(555) 555-4444']"
      ]
     },
     "execution_count": 4,
     "metadata": {},
     "output_type": "execute_result"
    }
   ],
   "source": [
    " # phone numbers\n",
    "re.findall(r'\\(?\\d{3}\\)?\\s?-?\\d{3}-\\d{4}', data) "
   ]
  },
  {
   "cell_type": "code",
   "execution_count": 6,
   "id": "fb5d9bca",
   "metadata": {},
   "outputs": [
    {
     "data": {
      "text/plain": [
       "['de la Vega Sanz, María', 'First Deputy Prime Minister, Spanish']"
      ]
     },
     "execution_count": 6,
     "metadata": {},
     "output_type": "execute_result"
    }
   ],
   "source": [
    "# title\n",
    "re.findall(r'\\w+ \\w+ \\w+ \\w+, \\w+', data)"
   ]
  },
  {
   "cell_type": "code",
   "execution_count": null,
   "id": "76897b17",
   "metadata": {},
   "outputs": [],
   "source": [
    "# HOMEWORK:\n",
    "\n",
    "# Take a look at data and come up with 3 good questions and use some of the methods done in this \n",
    "# Jupyter Notebook to successfully answer the questions.\n",
    "\n",
    "'''\n",
    "Questions:\n",
    "Pick data only from unique accounts for every qestion. \n",
    "The question \"why\" at the end of each question is rhetorical\n",
    "\n",
    "\n",
    "\n",
    "    IN ENROLEMENT:\n",
    "1. What is the % of unique accounts is_enroled vs is_canceled? Why?\n",
    "2. In status of enrolement canceled vs current accounts? Why? \n",
    "\n",
    "    IN ENGAGEMENTS:\n",
    "1. How many total lessons were completed? Why?\n",
    "2. How many total courses were visited? Why?\n",
    "3. What is the % between second  and third questions? Why?\n",
    "\n",
    "4. what is the best month for engagements? Why?\n",
    "5. What is the worth month of engagements? Why? \n",
    "\n",
    "    IN SUBMISSIONS:\n",
    "    \n",
    "    in assigned_rating:   \n",
    "1. How many were ungraded?\n",
    "2. How many were incomplete?\n",
    "3. How many were passed? \n",
    "What is the corelation in % between first,second and third questions? \n",
    "% and why? \n",
    "\n",
    "\n",
    "\n",
    "'''"
   ]
  }
 ],
 "metadata": {
  "kernelspec": {
   "display_name": "Python 3",
   "language": "python",
   "name": "python3"
  },
  "language_info": {
   "codemirror_mode": {
    "name": "ipython",
    "version": 3
   },
   "file_extension": ".py",
   "mimetype": "text/x-python",
   "name": "python",
   "nbconvert_exporter": "python",
   "pygments_lexer": "ipython3",
   "version": "3.8.8"
  }
 },
 "nbformat": 4,
 "nbformat_minor": 5
}
